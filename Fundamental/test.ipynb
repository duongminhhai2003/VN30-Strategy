{
 "cells": [
  {
   "cell_type": "code",
   "execution_count": 2,
   "metadata": {},
   "outputs": [],
   "source": [
    "from vnstock import *\n",
    "\n",
    "from convert import *\n",
    "\n",
    "\n",
    "import matplotlib.pyplot as plt\n",
    "import pandas as pd\n",
    "import numpy as np\n",
    "import requests\n"
   ]
  },
  {
   "cell_type": "code",
   "execution_count": 71,
   "metadata": {},
   "outputs": [],
   "source": [
    "ticket = ['ACB', 'BID', 'BVH', 'CTG', 'FPT', 'GAS', 'GVR', 'HDB', 'HPG', 'MBB', 'MSN', 'MWG', 'NVL', 'PDR', 'PLX', 'POW', 'SAB', 'SSI', 'STB', 'TCB', 'TPB', 'VCB', 'VHM', 'VIB', 'VIC', 'VJC', 'VNM', 'VPB', 'VRE']"
   ]
  },
  {
   "attachments": {},
   "cell_type": "markdown",
   "metadata": {},
   "source": [
    "### Field"
   ]
  },
  {
   "cell_type": "code",
   "execution_count": 7,
   "metadata": {},
   "outputs": [],
   "source": [
    "data = pd.DataFrame(index=range(1000))\n",
    "for i in ticket:\n",
    "    try:\n",
    "        a = ticker_overview(i)[\"industry\"][0]\n",
    "        if a not in data.columns:\n",
    "            data[a]=financial_report(symbol=i, report_type='IncomeStatement', frequency='Quarterly')[\"CHỈ TIÊU\"]\n",
    "    except Exception:\n",
    "        continue\n",
    "di = data.isna().sum(axis=1)>=len(data.columns)\n",
    "di=di[di==True].index\n",
    "data.drop(di,axis=0,inplace=True)\n",
    "data.to_excel(\"field/ic_field.xlsx\")"
   ]
  },
  {
   "attachments": {},
   "cell_type": "markdown",
   "metadata": {},
   "source": [
    "### IncomeStatement"
   ]
  },
  {
   "cell_type": "code",
   "execution_count": 72,
   "metadata": {},
   "outputs": [],
   "source": [
    "data = pd.DataFrame()\n",
    "for i in ticket:\n",
    "    try:\n",
    "        df = financial_report(symbol=i, report_type='IncomeStatement', frequency='Quarterly')\n",
    "        df[\"ticker\"] = i \n",
    "        # df.index = [ticker_overview(i)[\"industry\"][0]]*len(df.index)\n",
    "        data = pd.concat([data, df])\n",
    "    except Exception:\n",
    "        continue\n",
    "# df = data.groupby([data.index,\"CHỈ TIÊU\",\"ticker\"]).agg(sum)    \n"
   ]
  },
  {
   "attachments": {},
   "cell_type": "markdown",
   "metadata": {},
   "source": [
    "### Balance sheet"
   ]
  },
  {
   "cell_type": "code",
   "execution_count": 73,
   "metadata": {},
   "outputs": [],
   "source": [
    "data1 = pd.DataFrame()\n",
    "for i in ticket:\n",
    "    try:\n",
    "        df = financial_report(symbol=i, report_type='BalanceSheet', frequency='Quarterly')\n",
    "        df[\"ticker\"] = i \n",
    "        # df.index = [ticker_overview(i)[\"industry\"][0]]*len(df.index)\n",
    "        data1 = pd.concat([data1, df])\n",
    "    except Exception:\n",
    "        continue\n",
    "    \n",
    "# df = data.groupby([data.index,\"CHỈ TIÊU\",\"ticker\"]).agg(sum)    "
   ]
  },
  {
   "attachments": {},
   "cell_type": "markdown",
   "metadata": {},
   "source": [
    "### CashFlow"
   ]
  },
  {
   "cell_type": "code",
   "execution_count": 74,
   "metadata": {},
   "outputs": [],
   "source": [
    "data2 = pd.DataFrame()\n",
    "for i in ticket:\n",
    "    try:\n",
    "        df = financial_report(symbol=i, report_type='CashFlow', frequency='Quarterly')\n",
    "        df[\"ticker\"] = i \n",
    "        # df.index = [ticker_overview(i)[\"industry\"][0]]*len(df.index)\n",
    "        data2 = pd.concat([data2, df])\n",
    "    except Exception:\n",
    "        continue\n",
    "# df = data.groupby([data.index,\"CHỈ TIÊU\",\"ticker\"]).agg(sum)    "
   ]
  },
  {
   "cell_type": "code",
   "execution_count": null,
   "metadata": {},
   "outputs": [],
   "source": []
  }
 ],
 "metadata": {
  "kernelspec": {
   "display_name": "Python 3",
   "language": "python",
   "name": "python3"
  },
  "language_info": {
   "codemirror_mode": {
    "name": "ipython",
    "version": 3
   },
   "file_extension": ".py",
   "mimetype": "text/x-python",
   "name": "python",
   "nbconvert_exporter": "python",
   "pygments_lexer": "ipython3",
   "version": "3.10.9"
  },
  "orig_nbformat": 4,
  "vscode": {
   "interpreter": {
    "hash": "a42ccb73e7d9bfdf27e036f1d2b8b681e55fc0743cc5586bc2474d4a60f4b886"
   }
  }
 },
 "nbformat": 4,
 "nbformat_minor": 2
}
