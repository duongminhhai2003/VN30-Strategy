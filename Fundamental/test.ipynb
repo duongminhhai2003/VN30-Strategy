{
 "cells": [
  {
   "cell_type": "code",
   "execution_count": 1,
   "metadata": {},
   "outputs": [],
   "source": [
    "import sys\n",
    "sys.path.append(\"../Tools/\")\n",
    "\n",
    "from vnstock import *\n",
    "\n",
    "from function import *\n",
    "from operators import *\n",
    "\n",
    "import matplotlib.pyplot as plt\n",
    "import pandas as pd\n",
    "import numpy as np\n",
    "import requests\n"
   ]
  },
  {
   "cell_type": "code",
   "execution_count": 2,
   "metadata": {},
   "outputs": [],
   "source": [
    "ticket = ['ACB', 'BID', 'BVH', 'CTG', 'FPT', 'GAS', 'GVR', 'HDB', 'HPG', 'MBB', 'MSN', 'MWG', 'NVL', 'PDR', 'PLX', 'POW', 'SAB', 'SSI', 'STB', 'TCB', 'TPB', 'VCB', 'VHM', 'VIB', 'VIC', 'VJC', 'VNM', 'VPB', 'VRE']"
   ]
  },
  {
   "attachments": {},
   "cell_type": "markdown",
   "metadata": {},
   "source": [
    "### Field"
   ]
  },
  {
   "cell_type": "code",
   "execution_count": 30,
   "metadata": {},
   "outputs": [],
   "source": [
    "data = pd.DataFrame(index=range(120))\n",
    "for i in ticket:\n",
    "    try:\n",
    "        a = ticker_overview(i)[\"industry\"][0]\n",
    "        if a not in data.columns:\n",
    "            data[a]=financial_report(symbol=i, report_type='CashFlow', frequency='Quarterly')[\"CHỈ TIÊU\"]\n",
    "    except Exception:\n",
    "        continue\n",
    "di = data.isna().sum(axis=1)>=9\n",
    "di=di[di==True].index\n",
    "data.drop(di,axis=0,inplace=True)\n",
    "data.to_excel(\"field/cf_field.xlsx\")    \n"
   ]
  },
  {
   "attachments": {},
   "cell_type": "markdown",
   "metadata": {},
   "source": [
    "### IncomeStatement"
   ]
  },
  {
   "cell_type": "code",
   "execution_count": 5,
   "metadata": {},
   "outputs": [],
   "source": [
    "data = pd.DataFrame()\n",
    "for i in ticket:\n",
    "    try:\n",
    "        df = financial_report(symbol=i, report_type='IncomeStatement', frequency='Quarterly')\n",
    "        df[\"ticker\"] = i \n",
    "        df.index = [ticker_overview(i)[\"industry\"][0]]*len(df.index)\n",
    "        data = pd.concat([data, df])\n",
    "    except Exception:\n",
    "        continue\n",
    "df = data.groupby([data.index,\"CHỈ TIÊU\",\"ticker\"]).agg(sum)"
   ]
  },
  {
   "cell_type": "code",
   "execution_count": 10,
   "metadata": {},
   "outputs": [],
   "source": [
    "df = pd.read_excel(\"income.xlsx\").ffill()\n",
    "df=df.set_index(df.columns[0])\n",
    "df = df.groupby([df.index,\"CHỈ TIÊU\",\"ticker\"]).agg(sum).T[\"Ngân hàng\"]\n",
    "\n",
    "close = pd.read_csv(\"../Data/close.csv\", index_col=\"TradingDate\", parse_dates=True)\n",
    "df1 = pd.DataFrame(np.nan, index=close.index, columns=close.columns)\n",
    "df1.index = df1.index.to_period('Q').strftime('Q%q %Y')\n",
    "df=df[\"Chi phí dự phòng rủi ro tín dụng\"]\n",
    "df1.loc[df.index,df.columns]=df.loc[df.index,df.columns]\n",
    "\n",
    "df1.ffill(inplace=True)\n",
    "df1.fillna(0,inplace=True)"
   ]
  },
  {
   "attachments": {},
   "cell_type": "markdown",
   "metadata": {},
   "source": [
    "### Balance sheet"
   ]
  },
  {
   "cell_type": "code",
   "execution_count": 48,
   "metadata": {},
   "outputs": [],
   "source": [
    "data = pd.DataFrame()\n",
    "for i in ticket:\n",
    "    try:\n",
    "        df = financial_report(symbol=i, report_type='BalanceSheet', frequency='Quarterly')\n",
    "        df[\"ticker\"] = i \n",
    "        df.index = [ticker_overview(i)[\"industry\"][0]]*len(df.index)\n",
    "        data = pd.concat([data, df])\n",
    "    except Exception:\n",
    "        continue\n",
    "df = data.groupby([data.index,\"CHỈ TIÊU\",\"ticker\"]).agg(sum)    "
   ]
  },
  {
   "attachments": {},
   "cell_type": "markdown",
   "metadata": {},
   "source": [
    "### CashFlow"
   ]
  },
  {
   "cell_type": "code",
   "execution_count": 51,
   "metadata": {},
   "outputs": [],
   "source": [
    "data = pd.DataFrame()\n",
    "for i in ticket:\n",
    "    try:\n",
    "        df = financial_report(symbol=i, report_type='CashFlow', frequency='Quarterly')\n",
    "        df[\"ticker\"] = i \n",
    "        df.index = [ticker_overview(i)[\"industry\"][0]]*len(df.index)\n",
    "        data = pd.concat([data, df])\n",
    "    except Exception:\n",
    "        continue\n",
    "df = data.groupby([data.index,\"CHỈ TIÊU\",\"ticker\"]).agg(sum)    "
   ]
  }
 ],
 "metadata": {
  "kernelspec": {
   "display_name": "Python 3",
   "language": "python",
   "name": "python3"
  },
  "language_info": {
   "codemirror_mode": {
    "name": "ipython",
    "version": 3
   },
   "file_extension": ".py",
   "mimetype": "text/x-python",
   "name": "python",
   "nbconvert_exporter": "python",
   "pygments_lexer": "ipython3",
   "version": "3.10.9"
  },
  "orig_nbformat": 4,
  "vscode": {
   "interpreter": {
    "hash": "a42ccb73e7d9bfdf27e036f1d2b8b681e55fc0743cc5586bc2474d4a60f4b886"
   }
  }
 },
 "nbformat": 4,
 "nbformat_minor": 2
}
