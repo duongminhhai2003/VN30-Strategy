{
 "cells": [
  {
   "cell_type": "code",
   "execution_count": 2,
   "metadata": {},
   "outputs": [],
   "source": [
    "import sys\n",
    "sys.path.append(\"../\")\n",
    "\n",
    "from vnstock import *\n",
    "\n",
    "from Tools.function import *\n",
    "from Tools.operators import *\n",
    "\n",
    "import matplotlib.pyplot as plt\n",
    "import pandas as pd\n",
    "import numpy as np\n",
    "import requests\n"
   ]
  },
  {
   "cell_type": "code",
   "execution_count": 52,
   "metadata": {},
   "outputs": [],
   "source": [
    "field = pd.DataFrame()"
   ]
  },
  {
   "cell_type": "code",
   "execution_count": 55,
   "metadata": {},
   "outputs": [],
   "source": [
    "\n",
    "ticket = ['ACB', 'BID', 'BVH', 'CTG', 'FPT', 'GAS', 'GVR', 'HDB', 'HPG', 'MBB', 'MSN', 'MWG', 'NVL', 'PDR', 'PLX', 'POW', 'SAB', 'SSI', 'STB', 'TCB', 'TPB', 'VCB', 'VHM', 'VIB', 'VIC', 'VJC', 'VNM', 'VPB', 'VRE']\n",
    "\n",
    "for i in ticket:\n",
    "    try:\n",
    "        field[i]=financial_report(symbol=i, report_type='BalanceSheet', frequency='Quarterly').iloc[:,0]\n",
    "    except Exception:\n",
    "        continue\n"
   ]
  },
  {
   "cell_type": "code",
   "execution_count": 57,
   "metadata": {},
   "outputs": [],
   "source": [
    "field.to_csv(\"field.csv\")"
   ]
  },
  {
   "cell_type": "code",
   "execution_count": 44,
   "metadata": {},
   "outputs": [
    {
     "data": {
      "text/plain": [
       "0                                          TỔNG TÀI SẢN\n",
       "1                            Tiền mặt, vàng bạc, đá quý\n",
       "2              Tiền gửi tại Ngân hàng nhà nước Việt Nam\n",
       "3     Tiền gửi tại các TCTD khác và cho vay các TCTD...\n",
       "4                                Chứng khoán kinh doanh\n",
       "5                                Chứng khoán kinh doanh\n",
       "6              Dự phòng giảm giá chứng khoán kinh doanh\n",
       "7     Các công cụ tài chính phái sinh và các tài sản...\n",
       "8                                    Cho vay khách hàng\n",
       "9                                    Cho vay khách hàng\n",
       "10                   Dự phòng rủi ro cho vay khách hàng\n",
       "11                                   Chứng khoán đầu tư\n",
       "12                   Chứng khoán đầu tư sẵn sàng để bán\n",
       "13              Chứng khoán đầu tư giữ đến ngày đáo hạn\n",
       "14                 Dự phòng giảm giá chứng khoán đầu tư\n",
       "15                              Góp vốn, đầu tư dài hạn\n",
       "16                               Đầu tư vào công ty con\n",
       "17                        Đầu tư vào công ty liên doanh\n",
       "18                                  Đầu tư dài hạn khác\n",
       "19                     Dự phòng giảm giá đầu tư dài hạn\n",
       "20                                      Tài sản cố định\n",
       "21                             Tài sản cố định hữu hình\n",
       "22                       Tài sản cố định thuê tài chính\n",
       "23                              Tài sản cố định vô hình\n",
       "24                                Investment properties\n",
       "25                                         Other assets\n",
       "26                        NỢ PHẢI TRẢ VÀ VỐN CHỦ SỞ HỮU\n",
       "27                                     Tổng nợ phải trả\n",
       "28              Các khoản nợ chính phủ và NHNN Việt Nam\n",
       "29            Tiền gửi và vay các Tổ chức tín dụng khác\n",
       "30                              Tiền gửi của khách hàng\n",
       "31    Các công cụ tài chính phái sinh và các khoản n...\n",
       "32    Vốn tài trợ, uỷ thác đầu tư của Chính phủ và c...\n",
       "33                             Phát hành giấy tờ có giá\n",
       "34                                    Các khoản nợ khác\n",
       "35                                       Vốn chủ sở hữu\n",
       "36                             Vốn của tổ chức tín dụng\n",
       "37                                          Vốn điều lệ\n",
       "38                                      Vốn đầu tư XDCB\n",
       "39                                 Thặng dư vốn cổ phần\n",
       "40                                         Cổ phiếu Quỹ\n",
       "41                                      Cổ phiếu ưu đãi\n",
       "42                                             Vốn khác\n",
       "43                             Quỹ của tổ chức tín dụng\n",
       "44                           Chênh lệch tỷ giá hối đoái\n",
       "45                      Chênh lệch đánh giá lại tài sản\n",
       "46                             Lợi nhuận chưa phân phối\n",
       "47                         Lợi ích của cổ đông thiểu số\n",
       "Name: CHỈ TIÊU, dtype: object"
      ]
     },
     "execution_count": 44,
     "metadata": {},
     "output_type": "execute_result"
    }
   ],
   "source": [
    "financial_report(symbol=\"ACB\", report_type='BalanceSheet', frequency='Quarterly').iloc[:,0]"
   ]
  },
  {
   "cell_type": "code",
   "execution_count": 59,
   "metadata": {},
   "outputs": [
    {
     "data": {
      "text/plain": [
       "21"
      ]
     },
     "execution_count": 59,
     "metadata": {},
     "output_type": "execute_result"
    }
   ],
   "source": [
    "len(field.columns)"
   ]
  },
  {
   "cell_type": "code",
   "execution_count": null,
   "metadata": {},
   "outputs": [],
   "source": []
  }
 ],
 "metadata": {
  "kernelspec": {
   "display_name": "Python 3",
   "language": "python",
   "name": "python3"
  },
  "language_info": {
   "codemirror_mode": {
    "name": "ipython",
    "version": 3
   },
   "file_extension": ".py",
   "mimetype": "text/x-python",
   "name": "python",
   "nbconvert_exporter": "python",
   "pygments_lexer": "ipython3",
   "version": "3.10.9"
  },
  "orig_nbformat": 4,
  "vscode": {
   "interpreter": {
    "hash": "a42ccb73e7d9bfdf27e036f1d2b8b681e55fc0743cc5586bc2474d4a60f4b886"
   }
  }
 },
 "nbformat": 4,
 "nbformat_minor": 2
}
