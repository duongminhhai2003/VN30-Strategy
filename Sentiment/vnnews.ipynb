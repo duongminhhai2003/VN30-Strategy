{
 "cells": [
  {
   "cell_type": "code",
   "execution_count": 1,
   "metadata": {},
   "outputs": [],
   "source": [
    "from vnnews import *"
   ]
  },
  {
   "cell_type": "code",
   "execution_count": 5,
   "metadata": {},
   "outputs": [
    {
     "data": {
      "text/plain": [
       "(['https://vnexpress.net/cu-hanh-tim-tang-gia-gap-doi-4572406.html',\n",
       "  'https://vnexpress.net/gia-vang-tuan-toi-co-the-giam-tiep-4572359.html',\n",
       "  'https://vnexpress.net/tuan-tang-gia-bat-ngo-cua-bitcoin-4572306.html',\n",
       "  'https://vnexpress.net/vua-tom-minh-phu-lai-cao-nhat-tam-nam-4572351.html',\n",
       "  'https://vnexpress.net/apax-holdings-de-xuat-chuyen-no-hoc-phi-thanh-hop-dong-vay-4572331.html',\n",
       "  'https://vnexpress.net/so-thu-lau-doi-nhat-tp-hcm-lap-ky-luc-doanh-thu-4572246.html',\n",
       "  'https://vnexpress.net/cach-ong-chu-lvmh-thanh-nguoi-giau-nhat-the-gioi-4571998.html',\n",
       "  'https://vnexpress.net/doi-song-tai-chinh-nguoi-nga-mot-nam-sau-cam-van-4572164.html',\n",
       "  'https://vnexpress.net/6-nganh-tao-nhieu-co-hoi-mua-ban-sap-nhap-4571398.html',\n",
       "  'https://vnexpress.net/bai-toan-can-doi-cung-cau-cua-xi-mang-nam-nay-4571465.html',\n",
       "  'https://vnexpress.net/chinh-phu-du-kien-co-chinh-sach-thi-diem-phat-trien-nha-o-xa-hoi-4572112.html',\n",
       "  'https://vnexpress.net/nhung-nguoi-leo-lai-kinh-te-ukraine-tu-ham-tranh-bom-4571643.html',\n",
       "  'https://vnexpress.net/sacombank-noi-nham-room-ngoai-anh-huong-tieu-cuc-toi-ky-vong-nha-dau-tu-4571996.html',\n",
       "  'https://vnexpress.net/nha-bang-trung-quoc-cho-khach-vay-mua-nha-den-nam-95-tuoi-4572082.html',\n",
       "  'https://vnexpress.net/da-nang-sap-dau-gia-25-khu-dat-lon-4571975.html',\n",
       "  'https://vnexpress.net/thong-doc-se-co-goi-tin-dung-120-000-ty-dong-cho-nha-o-xa-hoi-4571947.html',\n",
       "  'https://vnexpress.net/doanh-nghiep-than-lai-vay-cao-nguy-co-ban-minh-4571802.html',\n",
       "  'https://vnexpress.net/flc-xin-loi-co-dong-4571871.html',\n",
       "  'https://vnexpress.net/the-gioi-di-dong-dong-cua-chuoi-dien-may-o-campuchia-4571897.html',\n",
       "  'https://vnexpress.net/thu-tuong-go-kho-bat-dong-san-tren-tinh-than-khong-ai-giai-cuu-ai-4571807.html',\n",
       "  'https://vnexpress.net/skypec-ga-de-trung-vang-cua-vietnam-airlines-kinh-doanh-the-nao-4571493.html',\n",
       "  'https://vnexpress.net/chu-tich-novaland-mong-co-co-che-gian-no-ngan-hang-4571737.html',\n",
       "  'https://vnexpress.net/hang-viet-xuat-qua-duc-ngay-cang-kho-4571849.html',\n",
       "  'https://vnexpress.net/co-phieu-ngan-hang-trung-quoc-giam-50-vi-chu-tich-mat-lien-lac-4571822.html',\n",
       "  'https://vnexpress.net/doanh-nghiep-bat-dong-san-muon-duoc-gia-han-trai-phieu-4571776.html',\n",
       "  'https://vnexpress.net/gia-usd-ngan-hang-len-cao-nhat-hai-thang-4571706.html',\n",
       "  'https://vnexpress.net/lam-phat-co-the-da-dat-dinh-4571061.html',\n",
       "  'https://vnexpress.net/hoi-nghi-thao-go-thuc-day-thi-truong-bat-dong-san-ngay-17-2-4571560.html',\n",
       "  'https://vnexpress.net/adidas-tu-xuong-giay-sau-nha-thanh-cong-ty-hang-dau-the-gioi-4571460.html',\n",
       "  'https://vnexpress.net/gdp-tho-nhi-ky-co-the-mat-1-vi-dong-dat-4571543.html',\n",
       "  'https://vnexpress.net/bidv-xay-dung-khung-khoan-vay-ben-vung-4571968.html',\n",
       "  'https://vnexpress.net/techcombank-co-1-2-trieu-khach-hang-moi-4571739.html',\n",
       "  'https://vnexpress.net/ocb-nhan-ba-giai-thuong-quoc-te-4571348.html',\n",
       "  'https://vnexpress.net/vai-tro-cua-nhan-su-trong-chien-luoc-esg-hieu-qua-4571283.html',\n",
       "  'https://vnexpress.net/thu-giu-kho-my-pham-gia-tri-gia-gan-2-ty-dong-4571504.html',\n",
       "  'https://vnexpress.net/gia-nhieu-loai-trai-cay-giam-mot-nua-4571309.html',\n",
       "  'https://vnexpress.net/tranh-cai-noi-nham-room-ngoai-tai-sacombank-4571395.html',\n",
       "  'https://vnexpress.net/co-phieu-novaland-thoat-san-4571436.html',\n",
       "  'https://vnexpress.net/cong-ty-cua-shark-nguyen-ngoc-thuy-lo-nang-quy-cuoi-nam-ngoai-4571360.html',\n",
       "  'https://vnexpress.net/co-hoi-nao-de-nganh-go-noi-that-vuot-kho-4569137.html',\n",
       "  'https://vnexpress.net/nhung-y-tuong-pha-bang-thi-truong-bat-dong-san-4571156.html',\n",
       "  'https://vnexpress.net/ong-tran-ba-duong-dat-muc-tieu-thu-gan-3-8-ty-usd-tu-oto-4571247.html',\n",
       "  'https://vnexpress.net/the-gioi-co-the-tieu-thu-so-dau-ky-luc-nam-nay-4571263.html',\n",
       "  'https://vnexpress.net/hang-khi-dot-tu-nhien-lon-nhat-the-gioi-co-the-giam-50-doanh-thu-xuat-khau-4571221.html',\n",
       "  'https://vnexpress.net/nha-dau-tu-nuoc-ngoai-do-tien-tro-lai-vao-chung-khoan-trung-quoc-4571020.html',\n",
       "  'https://vnexpress.net/vi-sao-nen-dau-tu-co-phieu-dai-han-4570932.html',\n",
       "  'https://vnexpress.net/du-an-san-golf-van-lang-empire-trong-moi-hon-25-000-cay-xanh-4571459.html',\n",
       "  'https://vnexpress.net/mb-trien-khai-thanh-toan-qua-google-pay-voi-the-mb-visa-4569185.html',\n",
       "  'https://vnexpress.net/bao-hiem-vietinbank-va-loship-ky-hop-tac-chien-luoc-4564778.html',\n",
       "  'https://vnexpress.net/co-phieu-novaland-giam-san-ba-phien-lien-tiep-4570987.html'],\n",
       " ['Củ hành tím tăng giá gấp đôi',\n",
       "  'Giá vàng tuần tới có thể giảm tiếp',\n",
       "  'Tuần tăng giá bất ngờ của Bitcoin',\n",
       "  \"'Vua tôm' Minh Phú lãi cao nhất tám năm\",\n",
       "  'Apax Holdings đề xuất chuyển nợ học phí thành hợp đồng vay',\n",
       "  'Sở thú lâu đời nhất TP HCM lập kỷ lục doanh thu',\n",
       "  'Cách ông chủ LVMH thành người giàu nhất thế giới',\n",
       "  'Đời sống tài chính người Nga một năm sau cấm vận',\n",
       "  '6 ngành tạo nhiều cơ hội mua bán sáp nhập',\n",
       "  'Bài toán cân đối cung cầu của xi măng năm nay',\n",
       "  'Chính phủ dự kiến có chính sách thí điểm phát triển nhà ở xã hội',\n",
       "  'Những người lèo lái kinh tế Ukraine từ hầm tránh bom',\n",
       "  \"Sacombank: 'Nới nhầm room ngoại ảnh hưởng tiêu cực tới kỳ vọng nhà đầu tư'\",\n",
       "  'Nhà băng Trung Quốc cho khách vay mua nhà đến năm 95 tuổi',\n",
       "  'Đà Nẵng sắp đấu giá 25 khu đất lớn',\n",
       "  'Thống đốc: Sẽ có gói tín dụng 120.000 tỷ đồng cho nhà ở xã hội',\n",
       "  \"Doanh nghiệp than lãi vay cao, nguy cơ 'bán mình'\",\n",
       "  'FLC xin lỗi cổ đông',\n",
       "  'Thế Giới Di Động đóng cửa chuỗi điện máy ở Campuchia',\n",
       "  \"Thủ tướng: Gỡ khó bất động sản trên tinh thần 'không ai giải cứu ai'\",\n",
       "  \"Skypec - 'gà đẻ trứng vàng' của Vietnam Airlines kinh doanh thế nào?\",\n",
       "  'Chủ tịch Novaland: Mong có cơ chế giãn nợ ngân hàng',\n",
       "  'Hàng Việt xuất qua Đức ngày càng khó',\n",
       "  \"Cổ phiếu ngân hàng Trung Quốc giảm 50% vì chủ tịch 'mất liên lạc'\",\n",
       "  'Doanh nghiệp bất động sản muốn gia hạn trái phiếu',\n",
       "  'Giá USD ngân hàng lên cao nhất hai tháng',\n",
       "  'Lạm phát có thể đã đạt đỉnh',\n",
       "  'Thứ trưởng Xây dựng nêu 4 khó khăn của thị trường bất động sản',\n",
       "  'Adidas - từ xưởng giày sau nhà thành công ty hàng đầu thế giới',\n",
       "  'GDP Thổ Nhĩ Kỳ có thể mất 1% vì động đất',\n",
       "  \"BIDV xây dựng 'Khung Khoản vay bền vững'\",\n",
       "  'Techcombank có 1,2 triệu khách hàng mới',\n",
       "  'OCB nhận ba giải thưởng quốc tế',\n",
       "  'Vai trò của nhân sự trong chiến lược ESG hiệu quả',\n",
       "  'Thu giữ kho mỹ phẩm giả trị giá gần 2 tỷ đồng',\n",
       "  'Giá nhiều loại trái cây giảm một nửa',\n",
       "  \"Tranh cãi nới nhầm 'room' ngoại tại Sacombank\",\n",
       "  'Cổ phiếu Novaland thoát sàn',\n",
       "  \"Công ty của 'Shark' Nguyễn Ngọc Thủy lỗ nặng quý cuối năm ngoái\",\n",
       "  'Cơ hội nào để ngành gỗ nội thất vượt khó',\n",
       "  \"Những ý tưởng 'phá băng' thị trường bất động sản\",\n",
       "  'Ông Trần Bá Dương đặt mục tiêu thu gần 3,8 tỷ USD từ ôtô',\n",
       "  'Thế giới có thể tiêu thụ số dầu kỷ lục năm nay',\n",
       "  'Hãng khí đốt tự nhiên lớn nhất thế giới có thể giảm 50% doanh thu xuất khẩu',\n",
       "  'Nhà đầu tư nước ngoài đổ tiền trở lại vào chứng khoán Trung Quốc',\n",
       "  'Vì sao nên đầu tư cổ phiếu dài hạn?',\n",
       "  'Dự án sân golf Văn Lang Empire trồng mới hơn 25.000 cây xanh',\n",
       "  'MB triển khai thanh toán qua Google Pay với thẻ MB Visa',\n",
       "  'Bảo hiểm VietinBank và Loship ký hợp tác chiến lược',\n",
       "  'Cổ phiếu Novaland giảm sàn ba phiên liên tiếp'],\n",
       " 'https://vnexpress.net',\n",
       " 'vnexpress.net',\n",
       " 'fail',\n",
       " 'first')"
      ]
     },
     "execution_count": 5,
     "metadata": {},
     "output_type": "execute_result"
    }
   ],
   "source": [
    "url_extract('https://vnexpress.net/kinh-doanh', key='h3')"
   ]
  },
  {
   "cell_type": "code",
   "execution_count": 4,
   "metadata": {},
   "outputs": [
    {
     "data": {
      "text/plain": [
       "(['Thứ bảy, 19/11/2022, 15:05 (GMT+7)'],\n",
       " \"'Thương mại và đầu tư bền vững sẽ giúp APEC ứng phó nguy cơ suy thoái' - VnExpress Kinh doanh\",\n",
       " 'https://vnexpress.net',\n",
       " 'vnexpress.net',\n",
       " 'try',\n",
       " 'last')"
      ]
     },
     "execution_count": 4,
     "metadata": {},
     "output_type": "execute_result"
    }
   ],
   "source": [
    "url_extract('https://vnexpress.net/thuong-mai-va-dau-tu-ben-vung-se-giup-apec-ung-pho-nguy-co-suy-thoai-4538015.html', key='span', tag_class='date', type='')"
   ]
  },
  {
   "cell_type": "code",
   "execution_count": 6,
   "metadata": {},
   "outputs": [
    {
     "data": {
      "text/plain": [
       "(['/hai-du-khach-hanh-hung-bao-ve-chua-huong-20230214104749931.htm',\n",
       "  '/mua-nha-dat-bang-hinh-thuc-gop-von-rui-ro-gi-20230214110252795.htm',\n",
       "  '/dat-vang-nha-nuoc-chua-doi-duoc-tu-nhan-vo-tu-su-dung-20230213235030234.htm',\n",
       "  '/canh-sat-hinh-su-bat-thao-dien-ke-truy-na-nguy-hiem-20230214092259805.htm',\n",
       "  '/thao-tung-cac-goi-thau-y-te-hoang-thi-thuy-nga-bi-de-nghi-9-10-nam-tu-20230214091817418.htm',\n",
       "  '/giam-dinh-thiet-hai-sai-pham-cua-cac-co-quan-khanh-hoa-tai-du-an-con-tan-lap-20230213234714341.htm',\n",
       "  '/vo-tinh-day-xe-giup-trom-20230214101943828.htm',\n",
       "  '/toa-bac-khang-cao-xin-tra-lai-dien-thoai-cua-facebooker-dang-nhu-quynh-20230214113133855.htm',\n",
       "  '/trom-vang-cua-hang-xom-roi-nuong-vao-casino-20230214130937177.htm',\n",
       "  '/vi-sao-nguyen-chu-tich-nha-xuat-ban-giao-duc-viet-nam-bi-bat-2023021412074754.htm',\n",
       "  '/hai-pho-giam-doc-trung-tam-dang-kiem-o-hai-duong-bi-bat-20230214125059573.htm',\n",
       "  '/nguyen-chu-tich-hoi-dong-thanh-vien-nha-xuat-ban-giao-duc-viet-nam-bi-bat-bo-noi-gi-20230214114148377.htm',\n",
       "  '/chup-hinh-bang-may-anh-chuyen-nghiep-bi-bao-ve-chung-cu-cam-20230214105024932.htm',\n",
       "  '/bat-giam-doc-cong-ty-dang-kiem-o-bac-kan-vi-chi-dao-nhan-vien-nhan-hoi-lo-20230213211956912.htm',\n",
       "  '/khoi-to-ba-nguoi-dan-ong-mua-ban-chin-bo-da-dau-ho-2023021319080542.htm',\n",
       "  '/cong-an-phong-toa-tru-so-trung-tam-dang-kiem-o-hue-202302131753465.htm',\n",
       "  '/giam-doc-cong-ty-kingland-chi-nhanh-binh-duong-bi-de-nghi-truy-to-20230213181128952.htm',\n",
       "  '/bat-nguyen-chu-tich-hoi-dong-thanh-vien-nha-xuat-ban-giao-duc-viet-nam-202302131800109.htm',\n",
       "  '/24-nguoi-han-quoc-va-viet-nam-ra-toa-vu-nhap-canh-chuyen-gia-doi-lot-20230213161843296.htm',\n",
       "  '/khoi-to-giam-doc-trung-tam-dang-kiem-son-la-vi-nhan-hoi-lo-20230213170132591.htm',\n",
       "  '/bat-tam-giam-pho-chi-cuc-truong-chi-cuc-thuy-san-tinh-ba-ria-vung-tau-20230213160748057.htm',\n",
       "  '/de-nghi-truy-to-5-bi-can-san-xuat-buon-ban-thuoc-tay-gia-20230213151421805.htm',\n",
       "  '/hiep-dam-be-gai-13-tuoi-quen-qua-mang-xa-hoi-20230213130133816.htm',\n",
       "  '/bi-cao-hoang-thi-thuy-nga-khang-dinh-minh-la-nguoi-duy-nhat-huong-loi-20230213135214089.htm',\n",
       "  '/vua-ra-tu-ve-toi-hiep-dam-tre-em-tiep-tuc-bi-bat-ve-toi-hiep-dam-va-giet-nguoi-20230213110611694.htm',\n",
       "  '/cong-an-kham-xet-trung-tam-dang-kiem-50-05v-2023021311494738.htm',\n",
       "  '/truy-to-cuu-tong-giam-doc-lua-dao-ban-dat-con-tan-lap-chiem-doat-hon-34-5-ti-dong-20230212231041127.htm',\n",
       "  '/hai-chi-em-bi-nguoi-la-dung-sung-ban-gay-thuong-tich-20230213113705205.htm',\n",
       "  '/hanh-trinh-truy-lung-nghi-pham-giet-nguoi-tron-truy-na-25-nam-20230114230602546.htm',\n",
       "  '/hai-cuu-lanh-dao-cienco-1-bi-truy-to-vi-gay-thiet-hai-240-ti-khi-co-phan-hoa-20230120114432139.htm',\n",
       "  '/alibaba-va-nhung-chuyen-ben-le-phien-toa-20221215141417835.htm',\n",
       "  '/chup-hinh-bang-may-anh-chuyen-nghiep-bi-bao-ve-chung-cu-cam-20230214105024932.htm',\n",
       "  '/dien-thoai-danh-roi-bi-ban-vao-cua-hang-lam-gi-de-lay-lai-20230212165651041.htm',\n",
       "  '/song-o-nuoc-ngoai-toi-phai-lam-gi-de-duoc-cap-can-cuoc-cong-dan-20230203152725343.htm',\n",
       "  '/mua-nha-dat-bang-hinh-thuc-gop-von-rui-ro-gi-20230214110252795.htm',\n",
       "  '/bat-tam-giam-pho-chi-cuc-truong-chi-cuc-thuy-san-tinh-ba-ria-vung-tau-20230213160748057.htm',\n",
       "  '/cong-ty-tra-luong-nhung-de-ngoi-khong-la-dung-hay-sai-20230202221236475.htm'],\n",
       " ['Bị nhắc nhở đi ngược chiều, hai du khách hành hung bảo vệ chùa Hương',\n",
       "  'Mua nhà đất bằng hình thức góp vốn, rủi ro gì?',\n",
       "  \"Đất vàng Nhà nước chưa đòi được, 'tư nhân' vô tư sử dụng\",\n",
       "  \"Cảnh sát hình sự bắt Thao 'điên' - kẻ truy nã nguy hiểm\",\n",
       "  'Thao túng các gói thầu y tế, Hoàng Thị Thúy Nga bị đề nghị 9-10 năm tù',\n",
       "  'Giám định thiệt hại, sai phạm của các cơ quan Khánh Hòa tại dự án Cồn Tân Lập',\n",
       "  'Vô tình đẩy xe giúp... trộm',\n",
       "  'Tòa bác kháng cáo xin trả lại điện thoại của Facebooker Đặng Như Quỳnh',\n",
       "  'Trộm vàng của hàng xóm rồi ‘nướng’ vào casino',\n",
       "  'Vì sao nguyên chủ tịch Nhà xuất bản Giáo Dục Việt Nam bị bắt?',\n",
       "  'Hai phó giám đốc trung tâm đăng kiểm ở Hải Dương bị bắt',\n",
       "  'Nguyên chủ tịch hội đồng thành viên Nhà xuất bản Giáo Dục Việt Nam bị bắt, bộ nói gì?',\n",
       "  'Chụp hình bằng máy ảnh chuyên nghiệp bị bảo vệ chung cư cấm?',\n",
       "  'Bắt giám đốc công ty đăng kiểm ở Bắc Kạn vì chỉ đạo nhân viên nhận hối lộ',\n",
       "  'Khởi tố ba người đàn ông mua bán chín bộ da, đầu hổ',\n",
       "  'Công an phong tỏa trụ sở trung tâm đăng kiểm ở Huế',\n",
       "  'Giám đốc Công ty KingLand chi nhánh Bình Dương bị đề nghị truy tố',\n",
       "  'Bắt nguyên chủ tịch hội đồng thành viên Nhà xuất bản Giáo Dục Việt Nam',\n",
       "  \"24 người Hàn Quốc và Việt Nam ra tòa vụ nhập cảnh 'chuyên gia đội lốt'\",\n",
       "  'Khởi tố giám đốc trung tâm đăng kiểm Sơn La vì nhận hối lộ',\n",
       "  'Bắt tạm giam phó chi cục trưởng Chi cục Thủy sản tỉnh Bà Rịa - Vũng Tàu',\n",
       "  'Đề nghị truy tố 5 bị can sản xuất, buôn bán thuốc tây giả',\n",
       "  'Hiếp dâm bé gái 13 tuổi quen qua mạng xã hội',\n",
       "  'Bị cáo Hoàng Thị Thúy Nga khẳng định mình là người duy nhất hưởng lợi',\n",
       "  'Vừa ra tù về tội hiếp dâm trẻ em, tiếp tục bị bắt về tội hiếp dâm và giết người',\n",
       "  'Công an khám xét Trung tâm đăng kiểm 50-05V',\n",
       "  'Truy tố cựu tổng giám đốc lừa đảo bán đất Cồn Tân Lập, chiếm đoạt hơn 34,5 tỉ đồng',\n",
       "  'Hai chị em bị người lạ dùng súng bắn gây thương tích',\n",
       "  'Hành trình truy lùng nghi phạm giết người trốn truy nã 25 năm',\n",
       "  'Hai cựu lãnh đạo Cienco 1 bị truy tố vì gây thiệt hại 240 tỉ khi cổ phần hóa',\n",
       "  'Alibaba và những chuyện bên lề phiên tòa',\n",
       "  'Chụp hình bằng máy ảnh chuyên nghiệp bị bảo vệ chung cư cấm?',\n",
       "  'Điện thoại đánh rơi bị bán vào cửa hàng, làm gì để lấy lại?',\n",
       "  'Sống ở nước ngoài, tôi phải làm gì để được cấp căn cước công dân?',\n",
       "  'Mua nhà đất bằng hình thức góp vốn, rủi ro gì?',\n",
       "  'Bắt tạm giam phó chi cục trưởng Chi cục Thủy sản tỉnh Bà Rịa - Vũng Tàu',\n",
       "  \"Công ty trả lương nhưng để 'ngồi không' là đúng hay sai?\"],\n",
       " 'https://tuoitre.vn',\n",
       " 'tuoitre.vn',\n",
       " 'fail',\n",
       " 'first')"
      ]
     },
     "execution_count": 6,
     "metadata": {},
     "output_type": "execute_result"
    }
   ],
   "source": [
    "url_extract('https://tuoitre.vn/phap-luat.htm', key='h3')"
   ]
  },
  {
   "cell_type": "code",
   "execution_count": null,
   "metadata": {},
   "outputs": [],
   "source": []
  }
 ],
 "metadata": {
  "kernelspec": {
   "display_name": "Python 3",
   "language": "python",
   "name": "python3"
  },
  "language_info": {
   "codemirror_mode": {
    "name": "ipython",
    "version": 3
   },
   "file_extension": ".py",
   "mimetype": "text/x-python",
   "name": "python",
   "nbconvert_exporter": "python",
   "pygments_lexer": "ipython3",
   "version": "3.10.9"
  },
  "orig_nbformat": 4,
  "vscode": {
   "interpreter": {
    "hash": "a42ccb73e7d9bfdf27e036f1d2b8b681e55fc0743cc5586bc2474d4a60f4b886"
   }
  }
 },
 "nbformat": 4,
 "nbformat_minor": 2
}
