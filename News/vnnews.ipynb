{
 "cells": [
  {
   "cell_type": "code",
   "execution_count": 1,
   "metadata": {},
   "outputs": [],
   "source": [
    "from vnnews import *"
   ]
  },
  {
   "cell_type": "code",
   "execution_count": 5,
   "metadata": {},
   "outputs": [
    {
     "data": {
      "text/plain": [
       "(['https://vnexpress.net/nha-vuon-thua-lo-vi-gia-dua-giam-sau-4570209.html',\n",
       "  'https://vnexpress.net/co-phieu-flc-bi-huy-niem-yet-4570366.html',\n",
       "  'https://vnexpress.net/hang-khong-viet-dua-tim-them-nha-dau-tu-4568537.html',\n",
       "  'https://vnexpress.net/thuong-hieu-ty-usd-burberry-ra-doi-nhu-the-nao-4570132.html',\n",
       "  'https://vnexpress.net/binh-sen-da-khong-lo-ngay-14-2-4570070.html',\n",
       "  'https://vnexpress.net/hut-von-xanh-tu-cac-quy-dau-tu-de-phat-trien-ben-vung-4570118.html',\n",
       "  'https://vnexpress.net/valentine-toan-cau-dat-do-vi-lam-phat-4570391.html',\n",
       "  'https://vnexpress.net/nga-mat-25-khi-dot-xuat-khau-4570338.html',\n",
       "  'https://vnexpress.net/startup-ngoai-ua-thich-thi-truong-viet-4569769.html',\n",
       "  'https://vnexpress.net/sep-hoa-phat-muon-sang-tay-2-trieu-co-phieu-cho-con-4570167.html',\n",
       "  'https://vnexpress.net/tpbank-giu-da-tang-truong-hai-con-so-4570069.html',\n",
       "  'https://vnexpress.net/thuong-nhan-phan-phoi-kien-nghi-duoc-mua-xang-dau-tu-nhieu-nguon-4570142.html',\n",
       "  'https://vnexpress.net/viet-nam-dan-dau-khu-vuc-ve-ty-le-doanh-nghiep-nhat-muon-mo-rong-kinh-doanh-4570073.html',\n",
       "  'https://vnexpress.net/co-phieu-bat-dong-san-bi-ban-manh-4570084.html',\n",
       "  'https://vnexpress.net/gia-xang-tang-dau-giam-4569995.html',\n",
       "  'https://vnexpress.net/kho-khan-bua-vay-doanh-nghiep-xay-dung-4569791.html',\n",
       "  'https://vnexpress.net/hoi-lo-kiem-toan-duoi-hai-trieu-dong-co-the-bi-phat-den-40-trieu-4569893.html',\n",
       "  'https://vnexpress.net/chuong-trinh-phuc-hoi-kinh-te-cham-do-bo-nganh-lam-di-lam-lai-de-xuat-4569981.html',\n",
       "  'https://vnexpress.net/cai-gia-dat-do-khien-cac-dai-gia-tieu-dung-kho-roi-nga-4569940.html',\n",
       "  'https://vnexpress.net/tu-xuong-ep-dau-thu-cong-thanh-cong-ty-doanh-thu-nghin-ty-4562312.html',\n",
       "  'https://vnexpress.net/samsung-muon-trung-tam-nghien-cuu-va-phat-trien-o-viet-nam-thanh-hang-dau-the-gioi-4569785.html',\n",
       "  'https://vnexpress.net/gia-vang-the-gioi-co-the-tiep-da-giam-4569789.html',\n",
       "  'https://vnexpress.net/nga-tinh-giam-muc-chiet-khau-gia-dau-4569782.html',\n",
       "  'https://vnexpress.net/nhan-dien-co-phieu-bi-lam-gia-4569846.html',\n",
       "  'https://vnexpress.net/mb-giam-lai-suat-vay-toi-1-4570108.html',\n",
       "  'https://vnexpress.net/hdbank-co-mat-tai-61-tinh-thanh-4570003.html',\n",
       "  'https://vnexpress.net/tin-dung-xanh-thuc-day-phat-trien-nong-nghiep-ben-vung-4569912.html',\n",
       "  'https://vnexpress.net/vietinbank-uu-dai-cho-nha-ban-hang-tren-shopee-4569152.html',\n",
       "  'https://vnexpress.net/gia-ca-keo-mien-tay-tang-vot-4569732.html',\n",
       "  'https://vnexpress.net/evn-lo-thieu-than-san-xuat-dien-4569651.html',\n",
       "  'https://vnexpress.net/tang-truong-vung-song-hong-tu-nay-den-2030-se-dat-9-moi-nam-4569621.html',\n",
       "  'https://vnexpress.net/cong-ty-cong-nghe-cua-softbank-sa-thai-loat-nhan-vien-4569752.html',\n",
       "  'https://vnexpress.net/ceo-unilever-chung-toi-tham-vong-lon-voi-thi-truong-viet-nam-4560337.html',\n",
       "  'https://vnexpress.net/gia-xang-hom-nay-4569424.html',\n",
       "  'https://vnexpress.net/de-xuat-nguoi-viet-choi-casino-phai-co-thu-nhap-moi-thang-tu-10-trieu-dong-4569544.html',\n",
       "  'https://vnexpress.net/my-ton-them-tien-tra-no-vi-cuoc-chien-chong-lam-phat-4569390.html',\n",
       "  'https://vnexpress.net/thu-tuong-thuc-day-hop-tac-nang-luong-voi-brunei-4569435.html',\n",
       "  'https://vnexpress.net/hon-600-khach-hang-top-dau-ngung-quang-cao-tren-twitter-4569393.html',\n",
       "  'https://vnexpress.net/co-nen-bo-quy-dinh-bao-lanh-ngan-hang-ban-nha-tren-giay-4569275.html',\n",
       "  'https://vnexpress.net/nga-trung-quoc-lam-tang-suc-ep-len-lam-phat-toan-cau-4569349.html',\n",
       "  'https://vnexpress.net/moi-gioi-bat-dong-san-trung-quoc-tuyet-vong-vi-khach-khong-mua-nha-4569172.html',\n",
       "  'https://vnexpress.net/aeon-mall-khoi-cong-trung-tam-thuong-mai-dau-tien-o-mien-trung-4569397.html',\n",
       "  'https://vnexpress.net/but-bi-thien-long-lai-mot-ty-dong-moi-ngay-4569407.html',\n",
       "  'https://vnexpress.net/doanh-nhan-ban-ron-nhat-nuoc-nga-thoi-chien-4568966.html',\n",
       "  'https://vnexpress.net/nganh-thuy-san-ngam-don-lam-phat-4569068.html',\n",
       "  'https://vnexpress.net/co-the-mua-bao-hiem-nha-thay-nguoi-khac-khong-4567786.html',\n",
       "  'https://vnexpress.net/fpt-long-chau-ung-dung-ai-vao-ban-le-duoc-pham-4568263.html',\n",
       "  'https://vnexpress.net/tap-doan-xay-dung-hoa-binh-lo-nghin-ty-quy-cuoi-nam-2022-4569251.html',\n",
       "  'https://vnexpress.net/cong-ty-bau-duc-hop-tac-voi-carabao-4569096.html',\n",
       "  'https://vnexpress.net/chu-tich-hdqt-chung-khoan-vix-tu-nhiem-4569227.html'],\n",
       " ['Nhà vườn thua lỗ vì giá dừa giảm sâu',\n",
       "  'Cổ phiếu FLC bị huỷ niêm yết',\n",
       "  'Hàng không Việt đua tìm thêm nhà đầu tư',\n",
       "  'Thương hiệu tỷ USD Burberry ra đời như thế nào',\n",
       "  'Bình sen đá khổng lồ giá chục triệu đồng cho ngày Valentine',\n",
       "  'Hút vốn xanh từ các quỹ đầu tư để phát triển bền vững',\n",
       "  'Valentine toàn cầu đắt đỏ vì lạm phát',\n",
       "  'Nga mất 25% khí đốt xuất khẩu',\n",
       "  'Startup ngoại ưa thích thị trường Việt',\n",
       "  'Sếp Hoà Phát muốn sang tay 2 triệu cổ phiếu cho con',\n",
       "  'TPBank giữ đà tăng trưởng hai con số',\n",
       "  'Thương nhân phân phối kiến nghị được mua xăng dầu từ nhiều nguồn',\n",
       "  'Việt Nam dẫn đầu khu vực về tỷ lệ doanh nghiệp Nhật muốn mở rộng kinh doanh',\n",
       "  'Cổ phiếu bất động sản bị bán mạnh',\n",
       "  'Giá xăng tăng, dầu giảm',\n",
       "  'Khó khăn bủa vây doanh nghiệp xây dựng',\n",
       "  'Hối lộ kiểm toán dưới hai triệu đồng có thể bị phạt đến 40 triệu',\n",
       "  \"Chương trình phục hồi kinh tế chậm do 'bộ, ngành làm đi làm lại đề xuất'\",\n",
       "  'Cái giá đắt đỏ khiến các đại gia tiêu dùng khó rời Nga',\n",
       "  'Từ xưởng ép dầu thủ công thành công ty doanh thu nghìn tỷ',\n",
       "  'Samsung muốn Trung tâm R&D ở Việt Nam thành hàng đầu thế giới',\n",
       "  'Giá vàng thế giới có thể tiếp đà giảm',\n",
       "  'Nga tính giảm mức chiết khấu giá dầu',\n",
       "  'Nhận diện cổ phiếu bị làm giá',\n",
       "  'MB giảm lãi suất vay tới 1%',\n",
       "  'HDBank có mặt tại 61 tỉnh, thành',\n",
       "  'Tín dụng xanh thúc đẩy phát triển nông nghiệp bền vững',\n",
       "  'VietinBank ưu đãi cho nhà bán hàng trên Shopee',\n",
       "  'Giá cá kèo miền Tây tăng vọt',\n",
       "  'EVN lo thiếu than sản xuất điện',\n",
       "  'Tăng trưởng vùng sông Hồng từ nay đến 2030 sẽ đạt 9% mỗi năm',\n",
       "  'Công ty công nghệ của SoftBank sa thải loạt nhân viên',\n",
       "  'CEO Unilever: Chúng tôi tham vọng lớn với thị trường Việt Nam',\n",
       "  'Giá xăng có thể giảm',\n",
       "  'Đề xuất người Việt chơi casino phải có thu nhập mỗi tháng từ 10 triệu đồng',\n",
       "  'Mỹ tốn thêm tiền trả nợ vì cuộc chiến chống lạm phát',\n",
       "  'Thủ tướng thúc đẩy hợp tác năng lượng với Brunei',\n",
       "  'Hơn 600 khách hàng top đầu ngừng quảng cáo trên Twitter',\n",
       "  'Có nên bỏ quy định bảo lãnh ngân hàng bán nhà trên giấy?',\n",
       "  'Nga, Trung Quốc làm tăng sức ép lên lạm phát toàn cầu',\n",
       "  'Môi giới bất động sản Trung Quốc tuyệt vọng vì khách không mua nhà',\n",
       "  'Aeon Mall khởi công Trung tâm thương mại đầu tiên ở miền Trung',\n",
       "  'Bút bi Thiên Long lãi một tỷ đồng mỗi ngày',\n",
       "  'Doanh nhân bận rộn nhất nước Nga thời chiến',\n",
       "  'Ngành thủy sản ngấm đòn lạm phát',\n",
       "  'Có thể mua bảo hiểm nhà thay người khác không?',\n",
       "  'FPT Long Châu ứng dụng AI vào bán lẻ dược phẩm',\n",
       "  'Tập đoàn Xây dựng Hòa Bình lỗ nghìn tỷ quý cuối năm 2022',\n",
       "  'Công ty của Bầu Đức trồng thêm rau củ',\n",
       "  'Chủ tịch HĐQT Chứng khoán VIX từ nhiệm'],\n",
       " 'https://vnexpress.net',\n",
       " 'vnexpress.net',\n",
       " 'fail',\n",
       " 'first')"
      ]
     },
     "execution_count": 5,
     "metadata": {},
     "output_type": "execute_result"
    }
   ],
   "source": [
    "url_extract('https://vnexpress.net/kinh-doanh', key='h3')"
   ]
  },
  {
   "cell_type": "code",
   "execution_count": 4,
   "metadata": {},
   "outputs": [
    {
     "data": {
      "text/plain": [
       "(['Thứ bảy, 19/11/2022, 15:05 (GMT+7)'],\n",
       " \"'Thương mại và đầu tư bền vững sẽ giúp APEC ứng phó nguy cơ suy thoái' - VnExpress Kinh doanh\",\n",
       " 'https://vnexpress.net',\n",
       " 'vnexpress.net',\n",
       " 'try',\n",
       " 'last')"
      ]
     },
     "execution_count": 4,
     "metadata": {},
     "output_type": "execute_result"
    }
   ],
   "source": [
    "url_extract('https://vnexpress.net/thuong-mai-va-dau-tu-ben-vung-se-giup-apec-ung-pho-nguy-co-suy-thoai-4538015.html', key='span', tag_class='date', type='')"
   ]
  },
  {
   "cell_type": "code",
   "execution_count": 6,
   "metadata": {},
   "outputs": [
    {
     "data": {
      "text/plain": [
       "(['/hai-du-khach-hanh-hung-bao-ve-chua-huong-20230214104749931.htm',\n",
       "  '/mua-nha-dat-bang-hinh-thuc-gop-von-rui-ro-gi-20230214110252795.htm',\n",
       "  '/dat-vang-nha-nuoc-chua-doi-duoc-tu-nhan-vo-tu-su-dung-20230213235030234.htm',\n",
       "  '/canh-sat-hinh-su-bat-thao-dien-ke-truy-na-nguy-hiem-20230214092259805.htm',\n",
       "  '/thao-tung-cac-goi-thau-y-te-hoang-thi-thuy-nga-bi-de-nghi-9-10-nam-tu-20230214091817418.htm',\n",
       "  '/giam-dinh-thiet-hai-sai-pham-cua-cac-co-quan-khanh-hoa-tai-du-an-con-tan-lap-20230213234714341.htm',\n",
       "  '/vo-tinh-day-xe-giup-trom-20230214101943828.htm',\n",
       "  '/toa-bac-khang-cao-xin-tra-lai-dien-thoai-cua-facebooker-dang-nhu-quynh-20230214113133855.htm',\n",
       "  '/trom-vang-cua-hang-xom-roi-nuong-vao-casino-20230214130937177.htm',\n",
       "  '/vi-sao-nguyen-chu-tich-nha-xuat-ban-giao-duc-viet-nam-bi-bat-2023021412074754.htm',\n",
       "  '/hai-pho-giam-doc-trung-tam-dang-kiem-o-hai-duong-bi-bat-20230214125059573.htm',\n",
       "  '/nguyen-chu-tich-hoi-dong-thanh-vien-nha-xuat-ban-giao-duc-viet-nam-bi-bat-bo-noi-gi-20230214114148377.htm',\n",
       "  '/chup-hinh-bang-may-anh-chuyen-nghiep-bi-bao-ve-chung-cu-cam-20230214105024932.htm',\n",
       "  '/bat-giam-doc-cong-ty-dang-kiem-o-bac-kan-vi-chi-dao-nhan-vien-nhan-hoi-lo-20230213211956912.htm',\n",
       "  '/khoi-to-ba-nguoi-dan-ong-mua-ban-chin-bo-da-dau-ho-2023021319080542.htm',\n",
       "  '/cong-an-phong-toa-tru-so-trung-tam-dang-kiem-o-hue-202302131753465.htm',\n",
       "  '/giam-doc-cong-ty-kingland-chi-nhanh-binh-duong-bi-de-nghi-truy-to-20230213181128952.htm',\n",
       "  '/bat-nguyen-chu-tich-hoi-dong-thanh-vien-nha-xuat-ban-giao-duc-viet-nam-202302131800109.htm',\n",
       "  '/24-nguoi-han-quoc-va-viet-nam-ra-toa-vu-nhap-canh-chuyen-gia-doi-lot-20230213161843296.htm',\n",
       "  '/khoi-to-giam-doc-trung-tam-dang-kiem-son-la-vi-nhan-hoi-lo-20230213170132591.htm',\n",
       "  '/bat-tam-giam-pho-chi-cuc-truong-chi-cuc-thuy-san-tinh-ba-ria-vung-tau-20230213160748057.htm',\n",
       "  '/de-nghi-truy-to-5-bi-can-san-xuat-buon-ban-thuoc-tay-gia-20230213151421805.htm',\n",
       "  '/hiep-dam-be-gai-13-tuoi-quen-qua-mang-xa-hoi-20230213130133816.htm',\n",
       "  '/bi-cao-hoang-thi-thuy-nga-khang-dinh-minh-la-nguoi-duy-nhat-huong-loi-20230213135214089.htm',\n",
       "  '/vua-ra-tu-ve-toi-hiep-dam-tre-em-tiep-tuc-bi-bat-ve-toi-hiep-dam-va-giet-nguoi-20230213110611694.htm',\n",
       "  '/cong-an-kham-xet-trung-tam-dang-kiem-50-05v-2023021311494738.htm',\n",
       "  '/truy-to-cuu-tong-giam-doc-lua-dao-ban-dat-con-tan-lap-chiem-doat-hon-34-5-ti-dong-20230212231041127.htm',\n",
       "  '/hai-chi-em-bi-nguoi-la-dung-sung-ban-gay-thuong-tich-20230213113705205.htm',\n",
       "  '/hanh-trinh-truy-lung-nghi-pham-giet-nguoi-tron-truy-na-25-nam-20230114230602546.htm',\n",
       "  '/hai-cuu-lanh-dao-cienco-1-bi-truy-to-vi-gay-thiet-hai-240-ti-khi-co-phan-hoa-20230120114432139.htm',\n",
       "  '/alibaba-va-nhung-chuyen-ben-le-phien-toa-20221215141417835.htm',\n",
       "  '/chup-hinh-bang-may-anh-chuyen-nghiep-bi-bao-ve-chung-cu-cam-20230214105024932.htm',\n",
       "  '/dien-thoai-danh-roi-bi-ban-vao-cua-hang-lam-gi-de-lay-lai-20230212165651041.htm',\n",
       "  '/song-o-nuoc-ngoai-toi-phai-lam-gi-de-duoc-cap-can-cuoc-cong-dan-20230203152725343.htm',\n",
       "  '/mua-nha-dat-bang-hinh-thuc-gop-von-rui-ro-gi-20230214110252795.htm',\n",
       "  '/bat-tam-giam-pho-chi-cuc-truong-chi-cuc-thuy-san-tinh-ba-ria-vung-tau-20230213160748057.htm',\n",
       "  '/cong-ty-tra-luong-nhung-de-ngoi-khong-la-dung-hay-sai-20230202221236475.htm'],\n",
       " ['Bị nhắc nhở đi ngược chiều, hai du khách hành hung bảo vệ chùa Hương',\n",
       "  'Mua nhà đất bằng hình thức góp vốn, rủi ro gì?',\n",
       "  \"Đất vàng Nhà nước chưa đòi được, 'tư nhân' vô tư sử dụng\",\n",
       "  \"Cảnh sát hình sự bắt Thao 'điên' - kẻ truy nã nguy hiểm\",\n",
       "  'Thao túng các gói thầu y tế, Hoàng Thị Thúy Nga bị đề nghị 9-10 năm tù',\n",
       "  'Giám định thiệt hại, sai phạm của các cơ quan Khánh Hòa tại dự án Cồn Tân Lập',\n",
       "  'Vô tình đẩy xe giúp... trộm',\n",
       "  'Tòa bác kháng cáo xin trả lại điện thoại của Facebooker Đặng Như Quỳnh',\n",
       "  'Trộm vàng của hàng xóm rồi ‘nướng’ vào casino',\n",
       "  'Vì sao nguyên chủ tịch Nhà xuất bản Giáo Dục Việt Nam bị bắt?',\n",
       "  'Hai phó giám đốc trung tâm đăng kiểm ở Hải Dương bị bắt',\n",
       "  'Nguyên chủ tịch hội đồng thành viên Nhà xuất bản Giáo Dục Việt Nam bị bắt, bộ nói gì?',\n",
       "  'Chụp hình bằng máy ảnh chuyên nghiệp bị bảo vệ chung cư cấm?',\n",
       "  'Bắt giám đốc công ty đăng kiểm ở Bắc Kạn vì chỉ đạo nhân viên nhận hối lộ',\n",
       "  'Khởi tố ba người đàn ông mua bán chín bộ da, đầu hổ',\n",
       "  'Công an phong tỏa trụ sở trung tâm đăng kiểm ở Huế',\n",
       "  'Giám đốc Công ty KingLand chi nhánh Bình Dương bị đề nghị truy tố',\n",
       "  'Bắt nguyên chủ tịch hội đồng thành viên Nhà xuất bản Giáo Dục Việt Nam',\n",
       "  \"24 người Hàn Quốc và Việt Nam ra tòa vụ nhập cảnh 'chuyên gia đội lốt'\",\n",
       "  'Khởi tố giám đốc trung tâm đăng kiểm Sơn La vì nhận hối lộ',\n",
       "  'Bắt tạm giam phó chi cục trưởng Chi cục Thủy sản tỉnh Bà Rịa - Vũng Tàu',\n",
       "  'Đề nghị truy tố 5 bị can sản xuất, buôn bán thuốc tây giả',\n",
       "  'Hiếp dâm bé gái 13 tuổi quen qua mạng xã hội',\n",
       "  'Bị cáo Hoàng Thị Thúy Nga khẳng định mình là người duy nhất hưởng lợi',\n",
       "  'Vừa ra tù về tội hiếp dâm trẻ em, tiếp tục bị bắt về tội hiếp dâm và giết người',\n",
       "  'Công an khám xét Trung tâm đăng kiểm 50-05V',\n",
       "  'Truy tố cựu tổng giám đốc lừa đảo bán đất Cồn Tân Lập, chiếm đoạt hơn 34,5 tỉ đồng',\n",
       "  'Hai chị em bị người lạ dùng súng bắn gây thương tích',\n",
       "  'Hành trình truy lùng nghi phạm giết người trốn truy nã 25 năm',\n",
       "  'Hai cựu lãnh đạo Cienco 1 bị truy tố vì gây thiệt hại 240 tỉ khi cổ phần hóa',\n",
       "  'Alibaba và những chuyện bên lề phiên tòa',\n",
       "  'Chụp hình bằng máy ảnh chuyên nghiệp bị bảo vệ chung cư cấm?',\n",
       "  'Điện thoại đánh rơi bị bán vào cửa hàng, làm gì để lấy lại?',\n",
       "  'Sống ở nước ngoài, tôi phải làm gì để được cấp căn cước công dân?',\n",
       "  'Mua nhà đất bằng hình thức góp vốn, rủi ro gì?',\n",
       "  'Bắt tạm giam phó chi cục trưởng Chi cục Thủy sản tỉnh Bà Rịa - Vũng Tàu',\n",
       "  \"Công ty trả lương nhưng để 'ngồi không' là đúng hay sai?\"],\n",
       " 'https://tuoitre.vn',\n",
       " 'tuoitre.vn',\n",
       " 'fail',\n",
       " 'first')"
      ]
     },
     "execution_count": 6,
     "metadata": {},
     "output_type": "execute_result"
    }
   ],
   "source": [
    "url_extract('https://tuoitre.vn/phap-luat.htm', key='h3')"
   ]
  },
  {
   "cell_type": "code",
   "execution_count": null,
   "metadata": {},
   "outputs": [],
   "source": []
  }
 ],
 "metadata": {
  "kernelspec": {
   "display_name": "Python 3",
   "language": "python",
   "name": "python3"
  },
  "language_info": {
   "codemirror_mode": {
    "name": "ipython",
    "version": 3
   },
   "file_extension": ".py",
   "mimetype": "text/x-python",
   "name": "python",
   "nbconvert_exporter": "python",
   "pygments_lexer": "ipython3",
   "version": "3.10.9"
  },
  "orig_nbformat": 4,
  "vscode": {
   "interpreter": {
    "hash": "a42ccb73e7d9bfdf27e036f1d2b8b681e55fc0743cc5586bc2474d4a60f4b886"
   }
  }
 },
 "nbformat": 4,
 "nbformat_minor": 2
}
